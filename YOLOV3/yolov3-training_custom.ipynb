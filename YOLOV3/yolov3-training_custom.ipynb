{
  "cells": [
    {
      "cell_type": "markdown",
      "metadata": {
        "id": "-2U9jZLJ-pGZ"
      },
      "source": [
        "# **TRAIN A CUSTOM YOLOv3 OBJECT DETECTOR FOR POULTRY LITTER DETECTION**\n",
        "\n"
      ]
    },
    {
      "cell_type": "markdown",
      "metadata": {
        "id": "2oMYIMKkad8d"
      },
      "source": [
        "#**HOW TO BEGIN**?\n",
        "\n",
        "* Click on **File** in the menu bar and click on **Save a copy in drive**.This will open a copy of my colab notebook on your browser which you can now use.\n",
        "\n",
        "* Next, once you have opened the copy of my notebook and are connected to the Google Colab VM , click on **Runtime** in the menu bar and click on **Change runtime type**. Select **GPU** and click on save.\n"
      ]
    },
    {
      "cell_type": "markdown",
      "metadata": {
        "id": "SbELC9p5frKn"
      },
      "source": [
        "# **FOLLOW THESE 12 STEPS TO TRAIN AN OBJECT DETECTOR USING YOLOv3**\n",
        "\n",
        "<ins>**NOTE**</ins>: If you get disconnected or lose your session for some reason you have to run steps 2, 5, and 6 again to mount the drive, edit makefile and build darknet every single time, otherwise the darknet executable will not work."
      ]
    },
    {
      "cell_type": "markdown",
      "metadata": {
        "id": "klgpFdpHOavA"
      },
      "source": [
        "# **1) Create *`YOLOv3`* and *`training`* folders in your drive**\n",
        "\n",
        " Create a folder named ***YOLOv3*** in your drive. \n",
        " \n",
        " Next, create another folder named ***training*** inside the ***YOLOv3*** folder. This is where we will save our trained weights (This path is mentioned in the ***obj.data*** file which we will upload later) \n"
      ]
    },
    {
      "cell_type": "markdown",
      "metadata": {
        "id": "iJN3ZZaRaBhS"
      },
      "source": [
        "# **2) Mount drive, link your folder and navigate to /mydrive/YOLOv3 folder**"
      ]
    },
    {
      "cell_type": "code",
      "execution_count": null,
      "metadata": {
        "id": "DGbG4BwVoQIQ",
        "vscode": {
          "languageId": "python"
        }
      },
      "outputs": [],
      "source": [
        "#mount drive\n",
        "%cd ..\n",
        "from google.colab import drive\n",
        "drive.mount('/content/gdrive')\n",
        "\n",
        "# this creates a symbolic link so that now the path /content/gdrive/My\\ Drive/ is equal to /mydrive\n",
        "!ln -s /content/gdrive/My\\ Drive/ /mydrive\n",
        "\n",
        "# list the contents of /mydrive\n",
        "!ls /mydrive\n",
        "\n",
        "#Navigate to /mydrive/YOLOv3\n",
        "%cd /mydrive/YOLOv3"
      ]
    },
    {
      "cell_type": "markdown",
      "metadata": {
        "id": "0n-W3iAiY_zx"
      },
      "source": [
        "# **3) Clone `darknet` git repository** "
      ]
    },
    {
      "cell_type": "code",
      "execution_count": null,
      "metadata": {
        "id": "_8qS6Fb8d7Nz",
        "vscode": {
          "languageId": "python"
        }
      },
      "outputs": [],
      "source": [
        "!git clone https://github.com/AlexeyAB/darknet"
      ]
    },
    {
      "cell_type": "markdown",
      "metadata": {
        "id": "wuH8LHzDlQNX"
      },
      "source": [
        "# **4) Create & upload the following files which we need for training a custom detector**\n",
        "\n",
        "\n",
        "a.   `Labeled Custom Poultry Litter Dataset` \n",
        "\n",
        "b.   `Custom cfg file`\n",
        "\n",
        "c.   `obj.data and obj.names files` \n",
        "\n",
        "d.   `process.py file (to create train.txt and test.txt files for training)`\n",
        "\n",
        "\n",
        "**I am working with 2 classes i.e. litter_more_50 and litter_less_50**\n",
        "\n",
        "\n"
      ]
    },
    {
      "cell_type": "markdown",
      "metadata": {
        "id": "n4F5kQEfdKkt"
      },
      "source": [
        "## **4(a) Upload the Labeled custom dataset *`obj.zip`* file to the *`YOLOv3`* folder on your drive**\n",
        "\n",
        "\n",
        "Create the zip file **obj.zip** from the **obj** folder containing both the input image \".jpg\" files and their corresponding YOLO format labeled \".txt\" files. \n",
        "\n",
        "Upload the zip file to the ***YOLOv3*** folder on your drive.\n",
        "\n",
        "\n"
      ]
    },
    {
      "cell_type": "markdown",
      "metadata": {
        "id": "xByDKQq3gRmH"
      },
      "source": [
        "## **4(b) Create your custom *`config`* file and upload it to your drive**\n",
        "\n",
        "Download the **YOLOv3-custom.cfg** file from ***YOLOv3*** directory, make changes to it, and upload it to the ***YOLOv3*** folder on your drive .\n",
        "\n",
        "\n",
        "\n",
        "\n",
        "**You need to make the following changes in your custom config file:**\n",
        "\n",
        "*   change line batch to batch=64\n",
        "*   change line subdivisions to subdivisions=16\n",
        "*   change line max_batches to (classes*2000 but not less than number of training images and not less than 6000), f.e. max_batches=6000 if you train for 3 classes\n",
        "*    change line steps to 80% and 90% of max_batches, f.e. steps=4800,5400\n",
        "*    set network size width=640 height=480 or any value multiple of 32\n",
        "*    change line classes=80 to your number of objects in each of 3 [yolo]-layers\n",
        "*    change [filters=255] to filters=(classes + 5)x3 in the 3 [convolutional] before each [yolo] layer, keep in mind that it only has to be the last [convolutional] before each of the [yolo] layers.\n",
        "     So if classes=1 then it should be filters=18. If classes=2 then write filters=21.\n",
        "\n",
        "The YOLOv3-custom.cfg has already modified based on requirements as above."
      ]
    },
    {
      "cell_type": "markdown",
      "metadata": {
        "id": "n4w7wnywgDBY"
      },
      "source": [
        "## **4(c) Create your *`obj.data`* and *`obj.names`* files and upload to your drive**\n",
        "\n"
      ]
    },
    {
      "cell_type": "markdown",
      "metadata": {
        "id": "nOeyo0U2ya1K"
      },
      "source": [
        "### **obj.data**\n",
        "\n",
        "```\n",
        "classes = 2\n",
        "train  = data/train.txt\n",
        "valid  = data/test.txt\n",
        "names = data/obj.names\n",
        "backup = /mydrive/YOLOv3/training\n",
        "\n",
        "```"
      ]
    },
    {
      "cell_type": "markdown",
      "metadata": {
        "id": "oUgSxZqdRJ3c"
      },
      "source": [
        "### **obj.names**\n",
        "\n",
        "```\n",
        "littermore50\n",
        "litterless50\n",
        "```"
      ]
    },
    {
      "cell_type": "markdown",
      "metadata": {
        "id": "mcRuvcGuXQeX"
      },
      "source": [
        "## **4(d) Upload the *`process.py`* script file to the *`YOLOv3`* folder on your drive**\n",
        "\n",
        "**To divide all image files into 2 parts. 80% for train and 20% for test.**\n",
        "\n",
        "This *`process.py`* script creates the files *`train.txt`* & *`test.txt`* where the *`train.txt`* file has paths to 80% of the images and *`test.txt`* has paths to 20% of the images.\n",
        "\n"
      ]
    },
    {
      "cell_type": "markdown",
      "metadata": {
        "id": "eePMIIY3ZNlU"
      },
      "source": [
        "# **5) Make changes in the `makefile` to enable OPENCV and GPU**"
      ]
    },
    {
      "cell_type": "code",
      "execution_count": null,
      "metadata": {
        "id": "7_9IL3Lwd_-l",
        "vscode": {
          "languageId": "python"
        }
      },
      "outputs": [],
      "source": [
        "# change makefile to have GPU and OPENCV enabled\n",
        "# also set CUDNN, CUDNN_HALF and LIBSO to 1\n",
        "\n",
        "%cd darknet/\n",
        "!sed -i 's/OPENCV=0/OPENCV=1/' Makefile\n",
        "!sed -i 's/GPU=0/GPU=1/' Makefile\n",
        "!sed -i 's/CUDNN=0/CUDNN=1/' Makefile\n",
        "!sed -i 's/CUDNN_HALF=0/CUDNN_HALF=1/' Makefile\n",
        "!sed -i 's/LIBSO=0/LIBSO=1/' Makefile"
      ]
    },
    {
      "cell_type": "markdown",
      "metadata": {
        "id": "PXwypSyyZfwm"
      },
      "source": [
        "# **6) Run `make` command to build darknet**"
      ]
    },
    {
      "cell_type": "code",
      "execution_count": null,
      "metadata": {
        "id": "SGGqpRrueHsS",
        "vscode": {
          "languageId": "python"
        }
      },
      "outputs": [],
      "source": [
        "# build darknet \n",
        "!make"
      ]
    },
    {
      "cell_type": "markdown",
      "metadata": {
        "id": "4NaDcNEMNI8B"
      },
      "source": [
        "# **7) Copy all the files from the *`YOLOv3`* folder to the darknet directory**"
      ]
    },
    {
      "cell_type": "code",
      "execution_count": null,
      "metadata": {
        "id": "10exdo06Mk8F",
        "vscode": {
          "languageId": "python"
        }
      },
      "outputs": [],
      "source": [
        "# Clean the data and cfg folders first except the labels folder in data which is required\n",
        "\n",
        "%cd data/\n",
        "!find -maxdepth 1 -type f -exec rm -rf {} \\;\n",
        "%cd ..\n",
        "\n",
        "%rm -rf cfg/\n",
        "%mkdir cfg"
      ]
    },
    {
      "cell_type": "code",
      "execution_count": null,
      "metadata": {
        "id": "cKG8HZFes8ut",
        "vscode": {
          "languageId": "python"
        }
      },
      "outputs": [],
      "source": [
        "# Unzip the obj.zip dataset and its contents so that they are now in /darknet/data/ folder \n",
        "\n",
        "!unzip /mydrive/YOLOv3/obj.zip -d data/"
      ]
    },
    {
      "cell_type": "code",
      "execution_count": null,
      "metadata": {
        "id": "R_4kviylurEF",
        "vscode": {
          "languageId": "python"
        }
      },
      "outputs": [],
      "source": [
        "# Copy the YOLOv3-custom.cfg file so that it is now in /darknet/cfg/ folder \n",
        "\n",
        "!cp /mydrive/YOLOv3/YOLOv3-custom.cfg cfg\n",
        "\n",
        "# verify if your custom file is in cfg folder\n",
        "!ls cfg/"
      ]
    },
    {
      "cell_type": "code",
      "execution_count": null,
      "metadata": {
        "id": "_j6tBzGqv83I",
        "vscode": {
          "languageId": "python"
        }
      },
      "outputs": [],
      "source": [
        "# Copy the obj.names and obj.data files from your drive so that they are now in /darknet/data/ folder \n",
        "\n",
        "!cp /mydrive/YOLOv3/obj.names data\n",
        "!cp /mydrive/YOLOv3/obj.data  data\n",
        "\n",
        "# verify if the above files are in data folder\n",
        "!ls data/"
      ]
    },
    {
      "cell_type": "code",
      "execution_count": null,
      "metadata": {
        "id": "Su2Jcjynv9my",
        "vscode": {
          "languageId": "python"
        }
      },
      "outputs": [],
      "source": [
        "# Copy the process.py file to the current darknet directory \n",
        "\n",
        "!cp /mydrive/YOLOv3/process.py ."
      ]
    },
    {
      "cell_type": "markdown",
      "metadata": {
        "id": "PXqC6Jdnca8b"
      },
      "source": [
        "# **8) Run the *`process.py`* python script to create the *`train.txt`* & *`test.txt`* files inside the *data* folder**"
      ]
    },
    {
      "cell_type": "code",
      "execution_count": null,
      "metadata": {
        "id": "dhJ17EufwFp8",
        "vscode": {
          "languageId": "python"
        }
      },
      "outputs": [],
      "source": [
        "# run process.py ( this creates the train.txt and test.txt files in our darknet/data folder )\n",
        "!python process.py\n",
        "\n",
        "# list the contents of data folder to check if the train.txt and test.txt files have been created \n",
        "!ls data/"
      ]
    },
    {
      "cell_type": "markdown",
      "metadata": {
        "id": "Ja3ym-zPcw2e"
      },
      "source": [
        "# **9) Download the pre-trained *`YOLOv3`* weights**"
      ]
    },
    {
      "cell_type": "code",
      "execution_count": null,
      "metadata": {
        "id": "l6Sy14UfadVK",
        "vscode": {
          "languageId": "python"
        }
      },
      "outputs": [],
      "source": [
        "# Download the YOLOv3 pre-trained weights file\n",
        "!wget https://pjreddie.com/media/files/darknet53.conv.74\n"
      ]
    },
    {
      "cell_type": "markdown",
      "metadata": {
        "id": "j347nPDvv5R4"
      },
      "source": [
        "# **10) TRAINING**"
      ]
    },
    {
      "cell_type": "markdown",
      "metadata": {
        "id": "Pe-dldgMvdLF"
      },
      "source": [
        "## **Train your custom detector** \n",
        "\n",
        "For best results, you should stop the training when the average loss is less than 0.05 if possible or at least below 0.3, else train the model until the average loss does not show any significant change for a while."
      ]
    },
    {
      "cell_type": "code",
      "execution_count": null,
      "metadata": {
        "id": "imc0NP19hLuq",
        "vscode": {
          "languageId": "python"
        }
      },
      "outputs": [],
      "source": [
        "# train your custom detector! (uncomment %%capture below if you run into memory issues or your Colab is crashing)\n",
        "# %%capture\n",
        "\n",
        "!./darknet detector train data/obj.data cfg/YOLOv3-custom.cfg darknet53.conv.74 -dont_show -map"
      ]
    },
    {
      "cell_type": "code",
      "execution_count": null,
      "metadata": {
        "id": "X9z9whB7vdLH",
        "vscode": {
          "languageId": "python"
        }
      },
      "outputs": [],
      "source": [
        "# This stops 'Run all' at this cell by causing an error\n",
        "assert False"
      ]
    },
    {
      "cell_type": "markdown",
      "metadata": {
        "id": "Er-vGZk9Gxuc"
      },
      "source": [
        "### **<ins>NOTE</ins>:** If you get disconnected or lose your session for some reason you have to run steps 2, 5, and 6 again to mount the drive, edit makefile and build darknet every single time, otherwise the darknet executable will not work."
      ]
    },
    {
      "cell_type": "markdown",
      "metadata": {
        "id": "5gNvWI18ltTE"
      },
      "source": [
        "## **To restart your training (In case the training does not finish and you get disconnected)**\n",
        "\n",
        "If you get disconnected or lose your session, you don't have to start training your model from scratch again. You can restart training from where you left off. Use the weights that were saved last. The weights are saved every 100 iterations as ***YOLOv3-custom_last.weights*** in the ***YOLOv3/training*** folder on your drive. (The path we gave as backup in \"obj.data\" file).\n",
        "\n",
        "\n",
        "### **So to restart training run only Steps 2, 5, 6 and then run the following command**"
      ]
    },
    {
      "cell_type": "code",
      "execution_count": null,
      "metadata": {
        "id": "alYjxUlLhQET",
        "vscode": {
          "languageId": "python"
        }
      },
      "outputs": [],
      "source": [
        "#to restart training your custom detector where you left off(using the weights that were saved last)\n",
        "\n",
        "!./darknet detector train data/obj.data cfg/YOLOv3-custom.cfg /mydrive/YOLOv3/training/YOLOv3-custom_last.weights -dont_show -map\n"
      ]
    },
    {
      "cell_type": "markdown",
      "metadata": {
        "id": "93ZR1Cv5iSiH"
      },
      "source": [
        "# **11) Check performance** \n",
        "\n"
      ]
    },
    {
      "cell_type": "code",
      "execution_count": null,
      "metadata": {
        "id": "GmjcPvWyarZ6",
        "vscode": {
          "languageId": "python"
        }
      },
      "outputs": [],
      "source": [
        "# define helper function imShow\n",
        "def imShow(path):\n",
        "  import cv2\n",
        "  import matplotlib.pyplot as plt\n",
        "  %matplotlib inline\n",
        "\n",
        "  image = cv2.imread(path)\n",
        "  height, width = image.shape[:2]\n",
        "  resized_image = cv2.resize(image,(3*width, 3*height), interpolation = cv2.INTER_CUBIC)\n",
        "\n",
        "  fig = plt.gcf()\n",
        "  fig.set_size_inches(18, 10)\n",
        "  plt.axis(\"off\")\n",
        "  plt.imshow(cv2.cvtColor(resized_image, cv2.COLOR_BGR2RGB))\n",
        "  plt.show()\n"
      ]
    },
    {
      "cell_type": "markdown",
      "metadata": {
        "id": "LfxMeSSO1cM1"
      },
      "source": [
        "**Check the training chart**"
      ]
    },
    {
      "cell_type": "code",
      "execution_count": null,
      "metadata": {
        "id": "oqS9hbGtauPT",
        "vscode": {
          "languageId": "python"
        }
      },
      "outputs": [],
      "source": [
        "#only works if the training does not get interrupted\n",
        "imShow('chart.png')"
      ]
    },
    {
      "cell_type": "markdown",
      "metadata": {
        "id": "Xa9j0M4-au8q"
      },
      "source": [
        "**Check mAP (mean average precision)**"
      ]
    },
    {
      "cell_type": "code",
      "execution_count": null,
      "metadata": {
        "id": "qhlceb1YiEwu",
        "vscode": {
          "languageId": "python"
        }
      },
      "outputs": [],
      "source": [
        "##You can check the mAP for all the saved weights to see which gives the best results ( xxxx here is the saved weight number like 4000, 5000 or 6000 snd so on )\n",
        "\n",
        "!./darknet detector map data/obj.data cfg/YOLOv3-custom.cfg /mydrive/YOLOv3/training/YOLOv3-custom_4000.weights -points 0"
      ]
    },
    {
      "cell_type": "markdown",
      "metadata": {
        "id": "lkVfpYU3vK-W"
      },
      "source": [
        "# **12) Test your custom Object Detector**"
      ]
    },
    {
      "cell_type": "markdown",
      "metadata": {
        "id": "hRoFfkBFT7Hm"
      },
      "source": [
        "## **Make changes to your custom config file**\n",
        "*   change line batch to batch=1\n",
        "*   change line subdivisions to subdivisions=1\n",
        "\n",
        "You can do it either manually or by simply running the code below"
      ]
    },
    {
      "cell_type": "code",
      "execution_count": null,
      "metadata": {
        "colab": {
          "background_save": true
        },
        "id": "UddToJtjkSaO",
        "vscode": {
          "languageId": "python"
        }
      },
      "outputs": [],
      "source": [
        "#set your custom cfg to test mode \n",
        "%cd cfg\n",
        "!sed -i 's/batch=64/batch=1/' YOLOv3-custom.cfg\n",
        "!sed -i 's/subdivisions=16/subdivisions=1/' YOLOv3-custom.cfg\n",
        "%cd .."
      ]
    },
    {
      "cell_type": "markdown",
      "metadata": {
        "id": "NGzCTHKliv16"
      },
      "source": [
        "## **Run detector on an image**"
      ]
    },
    {
      "cell_type": "code",
      "execution_count": null,
      "metadata": {
        "colab": {
          "background_save": true
        },
        "id": "VUBkR6JgU4tX",
        "vscode": {
          "languageId": "python"
        }
      },
      "outputs": [],
      "source": [
        "# run your custom detector with this command (upload an image to your google drive to test, the thresh flag sets the minimum accuracy required for object detection)\n",
        "\n",
        "!./darknet detector test data/obj.data cfg/YOLOv3-custom.cfg /mydrive/YOLOv3/training/YOLOv3-custom_best.weights /mydrive/mask_test_images/image1.jpg -thresh 0.3 \n",
        "imShow('predictions.jpg')"
      ]
    },
    {
      "cell_type": "markdown",
      "metadata": {
        "id": "Io0OaKMCV4DX"
      },
      "source": [
        "## **Run detector on a webcam image**"
      ]
    },
    {
      "cell_type": "code",
      "execution_count": null,
      "metadata": {
        "id": "8SXjyRtEQ20u",
        "vscode": {
          "languageId": "python"
        }
      },
      "outputs": [],
      "source": [
        "#run detector on images captured by webcam for your custom YOLOv3 trained model\n",
        "from IPython.display import display, Javascript\n",
        "from google.colab.output import eval_js\n",
        "from base64 import b64decode\n",
        "\n",
        "def take_photo(filename='photo.jpg', quality=0.8):\n",
        "  js = Javascript('''\n",
        "    async function takePhoto(quality) {\n",
        "      const div = document.createElement('div');\n",
        "      const capture = document.createElement('button');\n",
        "      capture.textContent = 'Capture';\n",
        "      div.appendChild(capture);\n",
        "\n",
        "      const video = document.createElement('video');\n",
        "      video.style.display = 'block';\n",
        "      const stream = await navigator.mediaDevices.getUserMedia({video: true});\n",
        "\n",
        "      document.body.appendChild(div);\n",
        "      div.appendChild(video);\n",
        "      video.srcObject = stream;\n",
        "      await video.play();\n",
        "\n",
        "      // Resize the output to fit the video element.\n",
        "      google.colab.output.setIframeHeight(document.documentElement.scrollHeight, true);\n",
        "\n",
        "      // Wait for Capture to be clicked.\n",
        "      await new Promise((resolve) => capture.onclick = resolve);\n",
        "\n",
        "      const canvas = document.createElement('canvas');\n",
        "      canvas.width = video.videoWidth;\n",
        "      canvas.height = video.videoHeight;\n",
        "      canvas.getContext('2d').drawImage(video, 0, 0);\n",
        "      stream.getVideoTracks()[0].stop();\n",
        "      div.remove();\n",
        "      return canvas.toDataURL('image/jpeg', quality);\n",
        "    }\n",
        "    ''')\n",
        "  display(js)\n",
        "  data = eval_js('takePhoto({})'.format(quality))\n",
        "  binary = b64decode(data.split(',')[1])\n",
        "  with open(filename, 'wb') as f:\n",
        "    f.write(binary)\n",
        "  return filename\n",
        "\n",
        "from IPython.display import Image\n",
        "try:\n",
        "  filename = take_photo()\n",
        "  print('Saved to {}'.format(filename))\n",
        "  \n",
        "  # Show the image which was just taken.\n",
        "  display(Image(filename))\n",
        "except Exception as err:\n",
        "  # Errors will be thrown if the user does not have a webcam or if they do not\n",
        "  # grant the page permission to access it.\n",
        "  print(str(err))\n",
        "\n",
        "!./darknet detector test data/obj.data cfg/YOLOv3-custom.cfg /mydrive/YOLOv3/training/YOLOv3-custom_best.weights photo.jpg -thresh 0.5\n",
        "imShow('predictions.jpg')   "
      ]
    },
    {
      "cell_type": "markdown",
      "metadata": {
        "id": "RUgEa-HVixkj"
      },
      "source": [
        "## **Run detector on a video**"
      ]
    },
    {
      "cell_type": "code",
      "execution_count": null,
      "metadata": {
        "id": "7l5oGEsquDMr",
        "vscode": {
          "languageId": "python"
        }
      },
      "outputs": [],
      "source": [
        "# run your custom detector on a video with this command (upload a video to your google drive to test, the thresh flag sets the minimum accuracy required for object detection).This saves the output video with the detections in your output path\n",
        "\n",
        "!./darknet detector demo data/obj.data cfg/YOLOv3-custom.cfg /mydrive/YOLOv3/training/YOLOv3-custom_best.weights -dont_show /mydrive/mask_test_videos/test3.mp4 -i 0 -out_filename /mydrive/mask_test_videos/finalresult.avi "
      ]
    },
    {
      "cell_type": "markdown",
      "metadata": {
        "id": "___wZk_UJo08"
      },
      "source": [
        "## **Run detector on a live webcam**"
      ]
    },
    {
      "cell_type": "code",
      "execution_count": null,
      "metadata": {
        "id": "EiSatc-T2Sbb",
        "vscode": {
          "languageId": "python"
        }
      },
      "outputs": [],
      "source": [
        "# Code from theAIGuysCode Github (https://github.com/theAIGuysCode/YOLOv3-Cloud-Tutorial/blob/master/YOLOv3_webcam.ipynb)\n",
        "# Adjusted for my custom YOLOv3 trained weights, config and obj.data files\n",
        "\n",
        "# import dependencies\n",
        "from IPython.display import display, Javascript, Image\n",
        "from google.colab.output import eval_js\n",
        "from google.colab.patches import cv2_imshow\n",
        "from base64 import b64decode, b64encode\n",
        "import cv2\n",
        "import numpy as np\n",
        "import PIL\n",
        "import io\n",
        "import html\n",
        "import time\n",
        "import matplotlib.pyplot as plt\n",
        "%matplotlib inline\n",
        "\n",
        "\n",
        "# import darknet functions to perform object detections\n",
        "from darknet import *\n",
        "# load in our YOLOv3 architecture network\n",
        "network, class_names, class_colors = load_network(\"cfg/YOLOv3-custom.cfg\", \"data/obj.data\", \"/mydrive/YOLOv3/training/YOLOv3-custom_best.weights\")\n",
        "width = network_width(network)\n",
        "height = network_height(network)\n",
        "\n",
        "# darknet helper function to run detection on image\n",
        "def darknet_helper(img, width, height):\n",
        "  darknet_image = make_image(width, height, 3)\n",
        "  img_rgb = cv2.cvtColor(img, cv2.COLOR_BGR2RGB)\n",
        "  img_resized = cv2.resize(img_rgb, (width, height),\n",
        "                              interpolation=cv2.INTER_LINEAR)\n",
        "\n",
        "  # get image ratios to convert bounding boxes to proper size\n",
        "  img_height, img_width, _ = img.shape\n",
        "  width_ratio = img_width/width\n",
        "  height_ratio = img_height/height\n",
        "\n",
        "  # run model on darknet style image to get detections\n",
        "  copy_image_from_bytes(darknet_image, img_resized.tobytes())\n",
        "  detections = detect_image(network, class_names, darknet_image)\n",
        "  free_image(darknet_image)\n",
        "  return detections, width_ratio, height_ratio\n",
        "\n",
        "# function to convert the JavaScript object into an OpenCV image\n",
        "def js_to_image(js_reply):\n",
        "  \"\"\"\n",
        "  Params:\n",
        "          js_reply: JavaScript object containing image from webcam\n",
        "  Returns:\n",
        "          img: OpenCV BGR image\n",
        "  \"\"\"\n",
        "  # decode base64 image\n",
        "  image_bytes = b64decode(js_reply.split(',')[1])\n",
        "  # convert bytes to numpy array\n",
        "  jpg_as_np = np.frombuffer(image_bytes, dtype=np.uint8)\n",
        "  # decode numpy array into OpenCV BGR image\n",
        "  img = cv2.imdecode(jpg_as_np, flags=1)\n",
        "\n",
        "  return img\n",
        "\n",
        "# function to convert OpenCV Rectangle bounding box image into base64 byte string to be overlayed on video stream\n",
        "def bbox_to_bytes(bbox_array):\n",
        "  \"\"\"\n",
        "  Params:\n",
        "          bbox_array: Numpy array (pixels) containing rectangle to overlay on video stream.\n",
        "  Returns:\n",
        "        bytes: Base64 image byte string\n",
        "  \"\"\"\n",
        "  # convert array into PIL image\n",
        "  bbox_PIL = PIL.Image.fromarray(bbox_array, 'RGBA')\n",
        "  iobuf = io.BytesIO()\n",
        "  # format bbox into png for return\n",
        "  bbox_PIL.save(iobuf, format='png')\n",
        "  # format return string\n",
        "  bbox_bytes = 'data:image/png;base64,{}'.format((str(b64encode(iobuf.getvalue()), 'utf-8')))\n",
        "\n",
        "  return bbox_bytes  \n",
        "\n",
        "# JavaScript to properly create our live video stream using our webcam as input\n",
        "def video_stream():\n",
        "  js = Javascript('''\n",
        "    var video;\n",
        "    var div = null;\n",
        "    var stream;\n",
        "    var captureCanvas;\n",
        "    var imgElement;\n",
        "    var labelElement;\n",
        "    \n",
        "    var pendingResolve = null;\n",
        "    var shutdown = false;\n",
        "    \n",
        "    function removeDom() {\n",
        "       stream.getVideoTracks()[0].stop();\n",
        "       video.remove();\n",
        "       div.remove();\n",
        "       video = null;\n",
        "       div = null;\n",
        "       stream = null;\n",
        "       imgElement = null;\n",
        "       captureCanvas = null;\n",
        "       labelElement = null;\n",
        "    }\n",
        "    \n",
        "    function onAnimationFrame() {\n",
        "      if (!shutdown) {\n",
        "        window.requestAnimationFrame(onAnimationFrame);\n",
        "      }\n",
        "      if (pendingResolve) {\n",
        "        var result = \"\";\n",
        "        if (!shutdown) {\n",
        "          captureCanvas.getContext('2d').drawImage(video, 0, 0, 640, 480);\n",
        "          result = captureCanvas.toDataURL('image/jpeg', 0.8)\n",
        "        }\n",
        "        var lp = pendingResolve;\n",
        "        pendingResolve = null;\n",
        "        lp(result);\n",
        "      }\n",
        "    }\n",
        "    \n",
        "    async function createDom() {\n",
        "      if (div !== null) {\n",
        "        return stream;\n",
        "      }\n",
        "\n",
        "      div = document.createElement('div');\n",
        "      div.style.border = '2px solid black';\n",
        "      div.style.padding = '3px';\n",
        "      div.style.width = '100%';\n",
        "      div.style.maxWidth = '600px';\n",
        "      document.body.appendChild(div);\n",
        "      \n",
        "      const modelOut = document.createElement('div');\n",
        "      modelOut.innerHTML = \"<span>Status:</span>\";\n",
        "      labelElement = document.createElement('span');\n",
        "      labelElement.innerText = 'No data';\n",
        "      labelElement.style.fontWeight = 'bold';\n",
        "      modelOut.appendChild(labelElement);\n",
        "      div.appendChild(modelOut);\n",
        "           \n",
        "      video = document.createElement('video');\n",
        "      video.style.display = 'block';\n",
        "      video.width = div.clientWidth - 6;\n",
        "      video.setAttribute('playsinline', '');\n",
        "      video.onclick = () => { shutdown = true; };\n",
        "      stream = await navigator.mediaDevices.getUserMedia(\n",
        "          {video: { facingMode: \"environment\"}});\n",
        "      div.appendChild(video);\n",
        "\n",
        "      imgElement = document.createElement('img');\n",
        "      imgElement.style.position = 'absolute';\n",
        "      imgElement.style.zIndex = 1;\n",
        "      imgElement.onclick = () => { shutdown = true; };\n",
        "      div.appendChild(imgElement);\n",
        "      \n",
        "      const instruction = document.createElement('div');\n",
        "      instruction.innerHTML = \n",
        "          '<span style=\"color: red; font-weight: bold;\">' +\n",
        "          'When finished, click here or on the video to stop this demo</span>';\n",
        "      div.appendChild(instruction);\n",
        "      instruction.onclick = () => { shutdown = true; };\n",
        "      \n",
        "      video.srcObject = stream;\n",
        "      await video.play();\n",
        "\n",
        "      captureCanvas = document.createElement('canvas');\n",
        "      captureCanvas.width = 640; //video.videoWidth;\n",
        "      captureCanvas.height = 480; //video.videoHeight;\n",
        "      window.requestAnimationFrame(onAnimationFrame);\n",
        "      \n",
        "      return stream;\n",
        "    }\n",
        "    async function stream_frame(label, imgData) {\n",
        "      if (shutdown) {\n",
        "        removeDom();\n",
        "        shutdown = false;\n",
        "        return '';\n",
        "      }\n",
        "\n",
        "      var preCreate = Date.now();\n",
        "      stream = await createDom();\n",
        "      \n",
        "      var preShow = Date.now();\n",
        "      if (label != \"\") {\n",
        "        labelElement.innerHTML = label;\n",
        "      }\n",
        "            \n",
        "      if (imgData != \"\") {\n",
        "        var videoRect = video.getClientRects()[0];\n",
        "        imgElement.style.top = videoRect.top + \"px\";\n",
        "        imgElement.style.left = videoRect.left + \"px\";\n",
        "        imgElement.style.width = videoRect.width + \"px\";\n",
        "        imgElement.style.height = videoRect.height + \"px\";\n",
        "        imgElement.src = imgData;\n",
        "      }\n",
        "      \n",
        "      var preCapture = Date.now();\n",
        "      var result = await new Promise(function(resolve, reject) {\n",
        "        pendingResolve = resolve;\n",
        "      });\n",
        "      shutdown = false;\n",
        "      \n",
        "      return {'create': preShow - preCreate, \n",
        "              'show': preCapture - preShow, \n",
        "              'capture': Date.now() - preCapture,\n",
        "              'img': result};\n",
        "    }\n",
        "    ''')\n",
        "\n",
        "  display(js)\n",
        "  \n",
        "def video_frame(label, bbox):\n",
        "  data = eval_js('stream_frame(\"{}\", \"{}\")'.format(label, bbox))\n",
        "  return data\n",
        "\n",
        "# start streaming video from webcam\n",
        "video_stream()\n",
        "# label for video\n",
        "label_html = 'Capturing...'\n",
        "# initialze bounding box to empty\n",
        "bbox = ''\n",
        "count = 0 \n",
        "while True:\n",
        "    js_reply = video_frame(label_html, bbox)\n",
        "    if not js_reply:\n",
        "        break\n",
        "\n",
        "    # convert JS response to OpenCV Image\n",
        "    frame = js_to_image(js_reply[\"img\"])\n",
        "\n",
        "    # create transparent overlay for bounding box\n",
        "    bbox_array = np.zeros([480,640,4], dtype=np.uint8)\n",
        "\n",
        "    # call our darknet helper on video frame\n",
        "    detections, width_ratio, height_ratio = darknet_helper(frame, width, height)\n",
        "\n",
        "    # loop through detections and draw them on transparent overlay image\n",
        "    for label, confidence, bbox in detections:\n",
        "      left, top, right, bottom = bbox2points(bbox)\n",
        "      left, top, right, bottom = int(left * width_ratio), int(top * height_ratio), int(right * width_ratio), int(bottom * height_ratio)\n",
        "      bbox_array = cv2.rectangle(bbox_array, (left, top), (right, bottom), class_colors[label], 2)\n",
        "      bbox_array = cv2.putText(bbox_array, \"{} [{:.2f}]\".format(label, float(confidence)),\n",
        "                        (left, top - 5), cv2.FONT_HERSHEY_SIMPLEX, 0.5,\n",
        "                        class_colors[label], 2)\n",
        "\n",
        "    bbox_array[:,:,3] = (bbox_array.max(axis = 2) > 0 ).astype(int) * 255\n",
        "    # convert overlay of bbox into bytes\n",
        "    bbox_bytes = bbox_to_bytes(bbox_array)\n",
        "    # update bbox so next frame gets new overlay\n",
        "    bbox = bbox_bytes   "
      ]
    }
  ],
  "metadata": {
    "accelerator": "GPU",
    "colab": {
      "collapsed_sections": [],
      "machine_shape": "hm",
      "name": "yolov4-custom_TRAINING.ipynb",
      "provenance": [],
      "toc_visible": true
    },
    "kernelspec": {
      "display_name": "Python 3",
      "name": "python3"
    }
  },
  "nbformat": 4,
  "nbformat_minor": 0
}
